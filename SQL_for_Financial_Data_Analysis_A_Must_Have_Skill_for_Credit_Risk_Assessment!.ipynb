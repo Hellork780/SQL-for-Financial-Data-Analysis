{
  "nbformat": 4,
  "nbformat_minor": 0,
  "metadata": {
    "colab": {
      "provenance": [],
      "authorship_tag": "ABX9TyP8nlYvf5b6iELUhQhIV65G",
      "include_colab_link": true
    },
    "kernelspec": {
      "name": "python3",
      "display_name": "Python 3"
    },
    "language_info": {
      "name": "python"
    }
  },
  "cells": [
    {
      "cell_type": "markdown",
      "metadata": {
        "id": "view-in-github",
        "colab_type": "text"
      },
      "source": [
        "<a href=\"https://colab.research.google.com/github/Hellork780/SQL-for-Financial-Data-Analysis/blob/main/SQL_for_Financial_Data_Analysis_A_Must_Have_Skill_for_Credit_Risk_Assessment!.ipynb\" target=\"_parent\"><img src=\"https://colab.research.google.com/assets/colab-badge.svg\" alt=\"Open In Colab\"/></a>"
      ]
    },
    {
      "cell_type": "markdown",
      "source": [
        "SQL for Financial Data Analysis: A Must-Have Skill for Credit Risk Assessment! In the financial industry, SQL is critical for credit risk analysis, helping lenders make data-driven decisions. Today, let's explore powerful SQL queries used to analyze loan data and identify high-risk borrowers.\n",
        "\n",
        "Since SQL is critical for credit risk analysis, today we will focus on:\n",
        "\n",
        "✔️ SQL Queries for Credit Risk Analysis\n",
        "\n",
        " ✔️ Window Functions (Rank, Dense Rank, Row Number)\n",
        "\n",
        "  ✔️ Joins & Aggregations for Loan Data\n",
        "  \n",
        "  ✔️ Mock Interview SQL Questions"
      ],
      "metadata": {
        "id": "QroqCzr-reu6"
      }
    },
    {
      "cell_type": "markdown",
      "source": [
        "**Step 1: Basic SQL Queries for Credit Risk Analysis**"
      ],
      "metadata": {
        "id": "yvfhYhagrsh8"
      }
    },
    {
      "cell_type": "markdown",
      "source": [
        "🔹 Find all customers who defaulted (default = 1)"
      ],
      "metadata": {
        "id": "1GEXyhJtuCPa"
      }
    },
    {
      "cell_type": "code",
      "execution_count": null,
      "metadata": {
        "id": "CUqiQviyrVtw"
      },
      "outputs": [],
      "source": [
        "\n",
        "SELECT * FROM credit_data WHERE default = 1;"
      ]
    },
    {
      "cell_type": "markdown",
      "source": [
        "🔹 Find the top 5 customers with the highest loan amounts"
      ],
      "metadata": {
        "id": "hIoeVWACuKm9"
      }
    },
    {
      "cell_type": "code",
      "source": [
        "\n",
        "SELECT * FROM credit_data ORDER BY loan_amount DESC LIMIT 5;\n"
      ],
      "metadata": {
        "id": "TGz4MB0-sE-z"
      },
      "execution_count": null,
      "outputs": []
    },
    {
      "cell_type": "markdown",
      "source": [
        "🔹 Find the total number of defaulters and non-defaulters"
      ],
      "metadata": {
        "id": "sQaI4OJ3uT49"
      }
    },
    {
      "cell_type": "code",
      "source": [
        "\n",
        "SELECT default, COUNT(*) FROM credit_data GROUP BY default;\n"
      ],
      "metadata": {
        "id": "bQKpZ55LsGEg"
      },
      "execution_count": null,
      "outputs": []
    },
    {
      "cell_type": "markdown",
      "source": [
        "🔹 Find average credit score of defaulters vs. non-defaulters"
      ],
      "metadata": {
        "id": "YfL70WePubNs"
      }
    },
    {
      "cell_type": "code",
      "source": [
        "\n",
        "SELECT default, AVG(credit_score) FROM credit_data GROUP BY default;\n"
      ],
      "metadata": {
        "id": "i697HBxUsJyn"
      },
      "execution_count": null,
      "outputs": []
    },
    {
      "cell_type": "markdown",
      "source": [
        "✅ Why These Queries?\n",
        "\n",
        "✔️ Helps in credit risk segmentation.\n",
        "\n",
        "✔️ Allows banks to find high-risk customers.\n",
        "\n",
        "✔️ Important for loan approval decisions\n"
      ],
      "metadata": {
        "id": "Tw24kvkLsN2h"
      }
    },
    {
      "cell_type": "markdown",
      "source": [
        "**Step 2: Advanced SQL Queries for Financial Risk Analysis**\n"
      ],
      "metadata": {
        "id": "Uo0W-PEEr5_T"
      }
    },
    {
      "cell_type": "markdown",
      "source": [
        "🔹 Find the percentage of defaulters for each credit score range"
      ],
      "metadata": {
        "id": "UmX7gA4fuj-q"
      }
    },
    {
      "cell_type": "code",
      "source": [
        "\n",
        "SELECT\n",
        "  CASE\n",
        "    WHEN credit_score >= 750 THEN 'Excellent'\n",
        "    WHEN credit_score BETWEEN 650 AND 749 THEN 'Good'\n",
        "    ELSE 'Poor'\n",
        "  END AS credit_category,\n",
        "  COUNT(*) AS total_customers,\n",
        "  SUM(CASE WHEN default = 1 THEN 1 ELSE 0 END) AS defaulters,\n",
        "  (SUM(CASE WHEN default = 1 THEN 1 ELSE 0 END) * 100.0 / COUNT(*)) AS default_rate\n",
        "FROM credit_data\n",
        "GROUP BY credit_category;\n"
      ],
      "metadata": {
        "id": "xlW1Jg_-sfP-"
      },
      "execution_count": null,
      "outputs": []
    },
    {
      "cell_type": "markdown",
      "source": [
        "✅ Why Important?\n",
        "\n",
        "✔️ Categorizes borrowers into high-risk and low-risk.\n",
        "\n",
        "✔️ Helps banks set interest rates based on risk.\n",
        "\n",
        "\n"
      ],
      "metadata": {
        "id": "QiKCg_wnskfo"
      }
    },
    {
      "cell_type": "markdown",
      "source": [
        "🔹 Find customers with the highest debt-to-income ratio (Loan Amount / Income)"
      ],
      "metadata": {
        "id": "sCXbR73gusNu"
      }
    },
    {
      "cell_type": "code",
      "source": [
        "\n",
        "SELECT customer_id, credit_score, income, loan_amount,\n",
        "       (loan_amount / income) AS debt_to_income_ratio\n",
        "FROM credit_data\n",
        "ORDER BY debt_to_income_ratio DESC\n",
        "LIMIT 10;\n"
      ],
      "metadata": {
        "id": "XlhOTA2Eswzs"
      },
      "execution_count": null,
      "outputs": []
    },
    {
      "cell_type": "markdown",
      "source": [
        "✅ Why Important?\n",
        "\n",
        "✔️ Higher debt-to-income ratio = higher loan default risk.\n",
        "\n",
        "✔️ Helps banks reject risky loan applications.\n"
      ],
      "metadata": {
        "id": "3_rFyjWQsq4J"
      }
    },
    {
      "cell_type": "markdown",
      "source": [
        " **Step 3: Window Functions (Ranking & Loan Risk Analysis)**\n"
      ],
      "metadata": {
        "id": "KPSnW2C8s8gf"
      }
    },
    {
      "cell_type": "markdown",
      "source": [
        " Find the top 3 customers with the highest loan amount per credit category"
      ],
      "metadata": {
        "id": "NskAMWz1u11z"
      }
    },
    {
      "cell_type": "code",
      "source": [
        "\n",
        "SELECT customer_id, credit_score, income, loan_amount,\n",
        "       RANK() OVER (PARTITION BY\n",
        "        CASE\n",
        "          WHEN credit_score >= 750 THEN 'Excellent'\n",
        "          WHEN credit_score BETWEEN 650 AND 749 THEN 'Good'\n",
        "          ELSE 'Poor'\n",
        "        END\n",
        "        ORDER BY loan_amount DESC) AS rank_in_category\n",
        "FROM credit_data;\n"
      ],
      "metadata": {
        "id": "HyTBvy04tBPW"
      },
      "execution_count": null,
      "outputs": []
    },
    {
      "cell_type": "markdown",
      "source": [
        "✅ Why Important?\n",
        "\n",
        "✔️ Helps identify high-risk customers in each credit category.\n",
        "\n",
        "✔️ Used for priority-based loan approvals.\n",
        "\n",
        "\n"
      ],
      "metadata": {
        "id": "b14Cnjg9tFge"
      }
    },
    {
      "cell_type": "markdown",
      "source": [
        "\n",
        "🔹 Find the cumulative sum of loan amounts for each credit category\n"
      ],
      "metadata": {
        "id": "pHcrCrRQu9gh"
      }
    },
    {
      "cell_type": "code",
      "source": [
        "\n",
        "SELECT customer_id, credit_score, loan_amount,\n",
        "       SUM(loan_amount) OVER (PARTITION BY\n",
        "        CASE\n",
        "          WHEN credit_score >= 750 THEN 'Excellent'\n",
        "          WHEN credit_score BETWEEN 650 AND 749 THEN 'Good'\n",
        "          ELSE 'Poor'\n",
        "        END\n",
        "        ORDER BY loan_amount DESC) AS cumulative_loan\n",
        "FROM credit_data;\n"
      ],
      "metadata": {
        "id": "usPbvMV_tMhT"
      },
      "execution_count": null,
      "outputs": []
    },
    {
      "cell_type": "markdown",
      "source": [
        "✅ Why Important?\n",
        "\n",
        "✔️ Helps in loan exposure analysis for different risk categories.\n",
        "\n",
        "✔️ Helps banks set lending limits per category.\n",
        "\n",
        "\n"
      ],
      "metadata": {
        "id": "BnW8I3JrtQqa"
      }
    }
  ]
}